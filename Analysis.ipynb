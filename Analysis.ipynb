{
 "cells": [
  {
   "cell_type": "markdown",
   "metadata": {},
   "source": [
    "**IE 6400 FUNDAMENTALS OF DATA ANALYTICS (GROUP - 8)**\n",
    "\n",
    "***1)** YASH HARALE*\n",
    "\n",
    "***2)** SAKSHI ARYAL*\n",
    "\n",
    "***3)** SHRUTHI KASHETTY*"
   ]
  },
  {
   "cell_type": "code",
   "execution_count": null,
   "metadata": {},
   "outputs": [],
   "source": [
    "#Initialzation\n",
    "import numpy as np\n",
    "import pandas as pd\n",
    "crimeDataFrame = pd.read_csv('Crime_Data_from_2020_to_Present.csv')"
   ]
  },
  {
   "cell_type": "markdown",
   "metadata": {},
   "source": [
    "DATA AQUISITION :"
   ]
  }
 ],
 "metadata": {
  "kernelspec": {
   "display_name": "Python 3",
   "language": "python",
   "name": "python3"
  },
  "language_info": {
   "codemirror_mode": {
    "name": "ipython",
    "version": 3
   },
   "file_extension": ".py",
   "mimetype": "text/x-python",
   "name": "python",
   "nbconvert_exporter": "python",
   "pygments_lexer": "ipython3",
   "version": "3.13.0"
  }
 },
 "nbformat": 4,
 "nbformat_minor": 2
}
